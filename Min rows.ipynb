{
 "cells": [
  {
   "cell_type": "code",
   "execution_count": 1,
   "metadata": {},
   "outputs": [],
   "source": [
    "import pandas as pd"
   ]
  },
  {
   "cell_type": "code",
   "execution_count": 2,
   "metadata": {},
   "outputs": [],
   "source": [
    "rows = {}\n",
    "for i in range(1, 97):\n",
    "    df = pd.read_csv(f\"Data/Piezo_{i}.dwf\", sep=\";\", names=[\"timestamp\", \"wear\", \"friction\", \"const\", \"ignore\"])\n",
    "    rows[i] = len(df)"
   ]
  },
  {
   "cell_type": "code",
   "execution_count": 8,
   "metadata": {},
   "outputs": [],
   "source": [
    "minrows = float(\"inf\")\n",
    "idx = -1\n",
    "for k in rows:\n",
    "    if rows[k] < minrows:\n",
    "        minrows = rows[k]\n",
    "        idx = k"
   ]
  },
  {
   "cell_type": "code",
   "execution_count": 9,
   "metadata": {},
   "outputs": [
    {
     "data": {
      "text/plain": [
       "(32, 65)"
      ]
     },
     "execution_count": 9,
     "metadata": {},
     "output_type": "execute_result"
    }
   ],
   "source": [
    "idx, minrows"
   ]
  },
  {
   "cell_type": "code",
   "execution_count": 10,
   "metadata": {},
   "outputs": [
    {
     "data": {
      "text/plain": [
       "65"
      ]
     },
     "execution_count": 10,
     "metadata": {},
     "output_type": "execute_result"
    }
   ],
   "source": [
    "rows[32]"
   ]
  },
  {
   "cell_type": "code",
   "execution_count": 11,
   "metadata": {},
   "outputs": [
    {
     "name": "stdout",
     "output_type": "stream",
     "text": [
      "1 169\n",
      "2 67\n",
      "3 117\n",
      "4 114\n",
      "5 109\n",
      "6 83\n",
      "7 113\n",
      "8 112\n",
      "9 103\n",
      "10 104\n",
      "11 113\n",
      "12 104\n",
      "13 98\n",
      "14 103\n",
      "15 100\n",
      "16 84\n",
      "17 122\n",
      "18 99\n",
      "19 94\n",
      "20 105\n",
      "21 88\n",
      "22 109\n",
      "23 104\n",
      "24 106\n",
      "25 99\n",
      "26 118\n",
      "27 96\n",
      "28 108\n",
      "29 101\n",
      "30 117\n",
      "31 94\n",
      "32 65\n",
      "33 120\n",
      "34 93\n",
      "35 101\n",
      "36 96\n",
      "37 95\n",
      "38 96\n",
      "39 97\n",
      "40 100\n",
      "41 95\n",
      "42 93\n",
      "43 96\n",
      "44 92\n",
      "45 67\n",
      "46 92\n",
      "47 96\n",
      "48 98\n",
      "49 94\n",
      "50 94\n",
      "51 95\n",
      "52 96\n",
      "53 92\n",
      "54 107\n",
      "55 95\n",
      "56 104\n",
      "57 93\n",
      "58 94\n",
      "59 93\n",
      "60 91\n",
      "61 107\n",
      "62 92\n",
      "63 92\n",
      "64 65\n",
      "65 92\n",
      "66 93\n",
      "67 97\n",
      "68 99\n",
      "69 77\n",
      "70 98\n",
      "71 95\n",
      "72 92\n",
      "73 93\n",
      "74 90\n",
      "75 93\n",
      "76 75\n",
      "77 92\n",
      "78 94\n",
      "79 78\n",
      "80 97\n",
      "81 74\n",
      "82 103\n",
      "83 77\n",
      "84 85\n",
      "85 95\n",
      "86 83\n",
      "87 84\n",
      "88 82\n",
      "89 80\n",
      "90 79\n",
      "91 92\n",
      "92 91\n",
      "93 66\n",
      "94 77\n",
      "95 80\n",
      "96 94\n"
     ]
    }
   ],
   "source": [
    "for k in rows:\n",
    "    print(f\"{k} {rows[k]}\")"
   ]
  },
  {
   "cell_type": "code",
   "execution_count": 14,
   "metadata": {},
   "outputs": [],
   "source": [
    "x = min(list(rows.values()))"
   ]
  },
  {
   "cell_type": "code",
   "execution_count": 16,
   "metadata": {},
   "outputs": [
    {
     "name": "stdout",
     "output_type": "stream",
     "text": [
      "32\n",
      "64\n"
     ]
    }
   ],
   "source": [
    "for k in rows:\n",
    "    if rows[k] == 65:\n",
    "        print(k)"
   ]
  },
  {
   "cell_type": "code",
   "execution_count": null,
   "metadata": {},
   "outputs": [],
   "source": []
  }
 ],
 "metadata": {
  "kernelspec": {
   "display_name": ".venv",
   "language": "python",
   "name": "python3"
  },
  "language_info": {
   "codemirror_mode": {
    "name": "ipython",
    "version": 3
   },
   "file_extension": ".py",
   "mimetype": "text/x-python",
   "name": "python",
   "nbconvert_exporter": "python",
   "pygments_lexer": "ipython3",
   "version": "3.12.2"
  }
 },
 "nbformat": 4,
 "nbformat_minor": 2
}
