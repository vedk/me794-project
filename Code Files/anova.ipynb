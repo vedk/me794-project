{
 "cells": [
  {
   "cell_type": "code",
   "execution_count": 21,
   "metadata": {},
   "outputs": [],
   "source": [
    "import pandas as pd\n",
    "\n",
    "from sklearn.feature_selection import f_regression, SelectKBest"
   ]
  },
  {
   "cell_type": "code",
   "execution_count": 22,
   "metadata": {},
   "outputs": [
    {
     "data": {
      "text/html": [
       "<div>\n",
       "<style scoped>\n",
       "    .dataframe tbody tr th:only-of-type {\n",
       "        vertical-align: middle;\n",
       "    }\n",
       "\n",
       "    .dataframe tbody tr th {\n",
       "        vertical-align: top;\n",
       "    }\n",
       "\n",
       "    .dataframe thead th {\n",
       "        text-align: right;\n",
       "    }\n",
       "</style>\n",
       "<table border=\"1\" class=\"dataframe\">\n",
       "  <thead>\n",
       "    <tr style=\"text-align: right;\">\n",
       "      <th></th>\n",
       "      <th>Unnamed: 0</th>\n",
       "      <th>Sample Number</th>\n",
       "      <th>Lubrication Condition</th>\n",
       "      <th>Pin Material</th>\n",
       "      <th>Weight (kg)</th>\n",
       "      <th>RPM</th>\n",
       "      <th>Sensor</th>\n",
       "      <th>Name of file</th>\n",
       "      <th>wear</th>\n",
       "      <th>friction</th>\n",
       "    </tr>\n",
       "  </thead>\n",
       "  <tbody>\n",
       "    <tr>\n",
       "      <th>0</th>\n",
       "      <td>0</td>\n",
       "      <td>1</td>\n",
       "      <td>No Lubrication</td>\n",
       "      <td>Brass</td>\n",
       "      <td>8</td>\n",
       "      <td>100</td>\n",
       "      <td>Piezo</td>\n",
       "      <td>Piezo_1</td>\n",
       "      <td>65.437059</td>\n",
       "      <td>13.327255</td>\n",
       "    </tr>\n",
       "    <tr>\n",
       "      <th>1</th>\n",
       "      <td>1</td>\n",
       "      <td>2</td>\n",
       "      <td>No Lubrication</td>\n",
       "      <td>Brass</td>\n",
       "      <td>8</td>\n",
       "      <td>150</td>\n",
       "      <td>Piezo</td>\n",
       "      <td>Piezo_2</td>\n",
       "      <td>31.882353</td>\n",
       "      <td>15.288431</td>\n",
       "    </tr>\n",
       "    <tr>\n",
       "      <th>2</th>\n",
       "      <td>2</td>\n",
       "      <td>3</td>\n",
       "      <td>No Lubrication</td>\n",
       "      <td>Brass</td>\n",
       "      <td>8</td>\n",
       "      <td>200</td>\n",
       "      <td>Piezo</td>\n",
       "      <td>Piezo_3</td>\n",
       "      <td>142.660784</td>\n",
       "      <td>14.579804</td>\n",
       "    </tr>\n",
       "    <tr>\n",
       "      <th>3</th>\n",
       "      <td>3</td>\n",
       "      <td>4</td>\n",
       "      <td>No Lubrication</td>\n",
       "      <td>Brass</td>\n",
       "      <td>8</td>\n",
       "      <td>250</td>\n",
       "      <td>Piezo</td>\n",
       "      <td>Piezo_4</td>\n",
       "      <td>126.095490</td>\n",
       "      <td>16.159608</td>\n",
       "    </tr>\n",
       "    <tr>\n",
       "      <th>4</th>\n",
       "      <td>4</td>\n",
       "      <td>5</td>\n",
       "      <td>No Lubrication</td>\n",
       "      <td>Brass</td>\n",
       "      <td>9</td>\n",
       "      <td>100</td>\n",
       "      <td>Piezo</td>\n",
       "      <td>Piezo_5</td>\n",
       "      <td>44.859804</td>\n",
       "      <td>19.828235</td>\n",
       "    </tr>\n",
       "    <tr>\n",
       "      <th>...</th>\n",
       "      <td>...</td>\n",
       "      <td>...</td>\n",
       "      <td>...</td>\n",
       "      <td>...</td>\n",
       "      <td>...</td>\n",
       "      <td>...</td>\n",
       "      <td>...</td>\n",
       "      <td>...</td>\n",
       "      <td>...</td>\n",
       "      <td>...</td>\n",
       "    </tr>\n",
       "    <tr>\n",
       "      <th>91</th>\n",
       "      <td>91</td>\n",
       "      <td>92</td>\n",
       "      <td>Full Lubrication</td>\n",
       "      <td>Aluminium</td>\n",
       "      <td>4</td>\n",
       "      <td>250</td>\n",
       "      <td>Piezo</td>\n",
       "      <td>Piezo_92</td>\n",
       "      <td>44.207059</td>\n",
       "      <td>2.781176</td>\n",
       "    </tr>\n",
       "    <tr>\n",
       "      <th>92</th>\n",
       "      <td>92</td>\n",
       "      <td>93</td>\n",
       "      <td>Full Lubrication</td>\n",
       "      <td>Aluminium</td>\n",
       "      <td>5</td>\n",
       "      <td>100</td>\n",
       "      <td>Piezo</td>\n",
       "      <td>Piezo_93</td>\n",
       "      <td>75.374902</td>\n",
       "      <td>4.973137</td>\n",
       "    </tr>\n",
       "    <tr>\n",
       "      <th>93</th>\n",
       "      <td>93</td>\n",
       "      <td>94</td>\n",
       "      <td>Full Lubrication</td>\n",
       "      <td>Aluminium</td>\n",
       "      <td>5</td>\n",
       "      <td>150</td>\n",
       "      <td>Piezo</td>\n",
       "      <td>Piezo_94</td>\n",
       "      <td>84.913725</td>\n",
       "      <td>4.588627</td>\n",
       "    </tr>\n",
       "    <tr>\n",
       "      <th>94</th>\n",
       "      <td>94</td>\n",
       "      <td>95</td>\n",
       "      <td>Full Lubrication</td>\n",
       "      <td>Aluminium</td>\n",
       "      <td>5</td>\n",
       "      <td>200</td>\n",
       "      <td>Piezo</td>\n",
       "      <td>Piezo_95</td>\n",
       "      <td>131.948824</td>\n",
       "      <td>4.297255</td>\n",
       "    </tr>\n",
       "    <tr>\n",
       "      <th>95</th>\n",
       "      <td>95</td>\n",
       "      <td>96</td>\n",
       "      <td>Full Lubrication</td>\n",
       "      <td>Aluminium</td>\n",
       "      <td>5</td>\n",
       "      <td>250</td>\n",
       "      <td>Piezo</td>\n",
       "      <td>Piezo_96</td>\n",
       "      <td>210.563529</td>\n",
       "      <td>4.068431</td>\n",
       "    </tr>\n",
       "  </tbody>\n",
       "</table>\n",
       "<p>96 rows × 10 columns</p>\n",
       "</div>"
      ],
      "text/plain": [
       "    Unnamed: 0  Sample Number Lubrication Condition Pin Material  Weight (kg)  \\\n",
       "0            0              1        No Lubrication        Brass            8   \n",
       "1            1              2        No Lubrication        Brass            8   \n",
       "2            2              3        No Lubrication        Brass            8   \n",
       "3            3              4        No Lubrication        Brass            8   \n",
       "4            4              5        No Lubrication        Brass            9   \n",
       "..         ...            ...                   ...          ...          ...   \n",
       "91          91             92      Full Lubrication    Aluminium            4   \n",
       "92          92             93      Full Lubrication    Aluminium            5   \n",
       "93          93             94      Full Lubrication    Aluminium            5   \n",
       "94          94             95      Full Lubrication    Aluminium            5   \n",
       "95          95             96      Full Lubrication    Aluminium            5   \n",
       "\n",
       "    RPM Sensor Name of file        wear   friction  \n",
       "0   100  Piezo      Piezo_1   65.437059  13.327255  \n",
       "1   150  Piezo      Piezo_2   31.882353  15.288431  \n",
       "2   200  Piezo      Piezo_3  142.660784  14.579804  \n",
       "3   250  Piezo      Piezo_4  126.095490  16.159608  \n",
       "4   100  Piezo      Piezo_5   44.859804  19.828235  \n",
       "..  ...    ...          ...         ...        ...  \n",
       "91  250  Piezo     Piezo_92   44.207059   2.781176  \n",
       "92  100  Piezo     Piezo_93   75.374902   4.973137  \n",
       "93  150  Piezo     Piezo_94   84.913725   4.588627  \n",
       "94  200  Piezo     Piezo_95  131.948824   4.297255  \n",
       "95  250  Piezo     Piezo_96  210.563529   4.068431  \n",
       "\n",
       "[96 rows x 10 columns]"
      ]
     },
     "execution_count": 22,
     "metadata": {},
     "output_type": "execute_result"
    }
   ],
   "source": [
    "df = pd.read_csv(\"Merged data draft 3 rows 10 to 60.csv\")\n",
    "df"
   ]
  },
  {
   "cell_type": "code",
   "execution_count": 23,
   "metadata": {},
   "outputs": [],
   "source": [
    "def lubTransform(x):\n",
    "    if x == \"No Lubrication\":\n",
    "        return -1\n",
    "    elif x == \"Half Lubrication\":\n",
    "        return 0\n",
    "    \n",
    "    return 1\n",
    "\n",
    "lub = df[\"Lubrication Condition\"]\n",
    "tlub = lub.transform(lubTransform)"
   ]
  },
  {
   "cell_type": "code",
   "execution_count": 24,
   "metadata": {},
   "outputs": [],
   "source": [
    "def matTransform(x):\n",
    "    if x == \"Brass\":\n",
    "        return -1\n",
    "    \n",
    "    return 1\n",
    "\n",
    "mat = df[\"Pin Material\"]\n",
    "tmat = mat.transform(matTransform)"
   ]
  },
  {
   "cell_type": "code",
   "execution_count": 25,
   "metadata": {},
   "outputs": [
    {
     "data": {
      "text/html": [
       "<div>\n",
       "<style scoped>\n",
       "    .dataframe tbody tr th:only-of-type {\n",
       "        vertical-align: middle;\n",
       "    }\n",
       "\n",
       "    .dataframe tbody tr th {\n",
       "        vertical-align: top;\n",
       "    }\n",
       "\n",
       "    .dataframe thead th {\n",
       "        text-align: right;\n",
       "    }\n",
       "</style>\n",
       "<table border=\"1\" class=\"dataframe\">\n",
       "  <thead>\n",
       "    <tr style=\"text-align: right;\">\n",
       "      <th></th>\n",
       "      <th>Lubrication Condition</th>\n",
       "      <th>Pin Material</th>\n",
       "      <th>Weight (kg)</th>\n",
       "      <th>RPM</th>\n",
       "    </tr>\n",
       "  </thead>\n",
       "  <tbody>\n",
       "    <tr>\n",
       "      <th>0</th>\n",
       "      <td>-1</td>\n",
       "      <td>-1</td>\n",
       "      <td>8</td>\n",
       "      <td>100</td>\n",
       "    </tr>\n",
       "    <tr>\n",
       "      <th>1</th>\n",
       "      <td>-1</td>\n",
       "      <td>-1</td>\n",
       "      <td>8</td>\n",
       "      <td>150</td>\n",
       "    </tr>\n",
       "    <tr>\n",
       "      <th>2</th>\n",
       "      <td>-1</td>\n",
       "      <td>-1</td>\n",
       "      <td>8</td>\n",
       "      <td>200</td>\n",
       "    </tr>\n",
       "    <tr>\n",
       "      <th>3</th>\n",
       "      <td>-1</td>\n",
       "      <td>-1</td>\n",
       "      <td>8</td>\n",
       "      <td>250</td>\n",
       "    </tr>\n",
       "    <tr>\n",
       "      <th>4</th>\n",
       "      <td>-1</td>\n",
       "      <td>-1</td>\n",
       "      <td>9</td>\n",
       "      <td>100</td>\n",
       "    </tr>\n",
       "    <tr>\n",
       "      <th>...</th>\n",
       "      <td>...</td>\n",
       "      <td>...</td>\n",
       "      <td>...</td>\n",
       "      <td>...</td>\n",
       "    </tr>\n",
       "    <tr>\n",
       "      <th>91</th>\n",
       "      <td>1</td>\n",
       "      <td>1</td>\n",
       "      <td>4</td>\n",
       "      <td>250</td>\n",
       "    </tr>\n",
       "    <tr>\n",
       "      <th>92</th>\n",
       "      <td>1</td>\n",
       "      <td>1</td>\n",
       "      <td>5</td>\n",
       "      <td>100</td>\n",
       "    </tr>\n",
       "    <tr>\n",
       "      <th>93</th>\n",
       "      <td>1</td>\n",
       "      <td>1</td>\n",
       "      <td>5</td>\n",
       "      <td>150</td>\n",
       "    </tr>\n",
       "    <tr>\n",
       "      <th>94</th>\n",
       "      <td>1</td>\n",
       "      <td>1</td>\n",
       "      <td>5</td>\n",
       "      <td>200</td>\n",
       "    </tr>\n",
       "    <tr>\n",
       "      <th>95</th>\n",
       "      <td>1</td>\n",
       "      <td>1</td>\n",
       "      <td>5</td>\n",
       "      <td>250</td>\n",
       "    </tr>\n",
       "  </tbody>\n",
       "</table>\n",
       "<p>96 rows × 4 columns</p>\n",
       "</div>"
      ],
      "text/plain": [
       "    Lubrication Condition  Pin Material  Weight (kg)  RPM\n",
       "0                      -1            -1            8  100\n",
       "1                      -1            -1            8  150\n",
       "2                      -1            -1            8  200\n",
       "3                      -1            -1            8  250\n",
       "4                      -1            -1            9  100\n",
       "..                    ...           ...          ...  ...\n",
       "91                      1             1            4  250\n",
       "92                      1             1            5  100\n",
       "93                      1             1            5  150\n",
       "94                      1             1            5  200\n",
       "95                      1             1            5  250\n",
       "\n",
       "[96 rows x 4 columns]"
      ]
     },
     "execution_count": 25,
     "metadata": {},
     "output_type": "execute_result"
    }
   ],
   "source": [
    "x = pd.concat([tlub, tmat, df[\"Weight (kg)\"], df[\"RPM\"]], axis=1)\n",
    "y1 = df[\"friction\"]\n",
    "y2 = df[\"wear\"]\n",
    "x"
   ]
  },
  {
   "cell_type": "code",
   "execution_count": 26,
   "metadata": {},
   "outputs": [
    {
     "data": {
      "text/plain": [
       "0     13.327255\n",
       "1     15.288431\n",
       "2     14.579804\n",
       "3     16.159608\n",
       "4     19.828235\n",
       "        ...    \n",
       "91     2.781176\n",
       "92     4.973137\n",
       "93     4.588627\n",
       "94     4.297255\n",
       "95     4.068431\n",
       "Name: friction, Length: 96, dtype: float64"
      ]
     },
     "execution_count": 26,
     "metadata": {},
     "output_type": "execute_result"
    }
   ],
   "source": [
    "y1"
   ]
  },
  {
   "cell_type": "code",
   "execution_count": 31,
   "metadata": {},
   "outputs": [],
   "source": [
    "f_statisic, p_values = f_regression(x, y1)"
   ]
  },
  {
   "cell_type": "code",
   "execution_count": 32,
   "metadata": {},
   "outputs": [
    {
     "data": {
      "text/plain": [
       "Index(['Lubrication Condition', 'Pin Material', 'Weight (kg)', 'RPM'], dtype='object')"
      ]
     },
     "execution_count": 32,
     "metadata": {},
     "output_type": "execute_result"
    }
   ],
   "source": [
    "x.columns"
   ]
  },
  {
   "cell_type": "code",
   "execution_count": 33,
   "metadata": {},
   "outputs": [
    {
     "data": {
      "text/plain": [
       "array([48.19168862, 62.24986088, 93.70958446,  0.38756308])"
      ]
     },
     "execution_count": 33,
     "metadata": {},
     "output_type": "execute_result"
    }
   ],
   "source": [
    "f_statisic"
   ]
  },
  {
   "cell_type": "code",
   "execution_count": 34,
   "metadata": {},
   "outputs": [
    {
     "data": {
      "text/plain": [
       "array([4.92798629e-10, 5.43201500e-12, 8.78599137e-16, 5.35090460e-01])"
      ]
     },
     "execution_count": 34,
     "metadata": {},
     "output_type": "execute_result"
    }
   ],
   "source": [
    "p_values"
   ]
  },
  {
   "cell_type": "code",
   "execution_count": 36,
   "metadata": {},
   "outputs": [
    {
     "data": {
      "text/plain": [
       "Index(['Lubrication Condition', 'Pin Material', 'Weight (kg)'], dtype='object')"
      ]
     },
     "execution_count": 36,
     "metadata": {},
     "output_type": "execute_result"
    }
   ],
   "source": [
    "best = SelectKBest(f_regression, k=3).fit(x, y1)\n",
    "x.columns[best.get_support()] # gets k = 3 best predictors for friction"
   ]
  },
  {
   "cell_type": "code",
   "execution_count": null,
   "metadata": {},
   "outputs": [],
   "source": []
  }
 ],
 "metadata": {
  "kernelspec": {
   "display_name": ".venv",
   "language": "python",
   "name": "python3"
  },
  "language_info": {
   "codemirror_mode": {
    "name": "ipython",
    "version": 3
   },
   "file_extension": ".py",
   "mimetype": "text/x-python",
   "name": "python",
   "nbconvert_exporter": "python",
   "pygments_lexer": "ipython3",
   "version": "3.12.2"
  }
 },
 "nbformat": 4,
 "nbformat_minor": 2
}
